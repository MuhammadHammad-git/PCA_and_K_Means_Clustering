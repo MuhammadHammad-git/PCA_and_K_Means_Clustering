{
  "nbformat": 4,
  "nbformat_minor": 0,
  "metadata": {
    "colab": {
      "provenance": [],
      "collapsed_sections": [
        "Bk91f4LuP4Kq",
        "XxBLgjl-Pp0V",
        "NT1oN0uGQnos",
        "lK-uvAzBS6M-",
        "7zMcqqK0EiaL",
        "5DJ56jzxEiop",
        "yWIsCxSxEi3O"
      ],
      "include_colab_link": true
    },
    "kernelspec": {
      "name": "python3",
      "display_name": "Python 3"
    },
    "language_info": {
      "name": "python"
    }
  },
  "cells": [
    {
      "cell_type": "markdown",
      "metadata": {
        "id": "view-in-github",
        "colab_type": "text"
      },
      "source": [
        "<a href=\"https://colab.research.google.com/github/MuhammadHammad-git/PCA_and_K_Means_Clustering/blob/main/PCA_and_K_Means_Clustering.ipynb\" target=\"_parent\"><img src=\"https://colab.research.google.com/assets/colab-badge.svg\" alt=\"Open In Colab\"/></a>"
      ]
    },
    {
      "cell_type": "markdown",
      "source": [
        "# QUESTION # 1"
      ],
      "metadata": {
        "id": "Bk91f4LuP4Kq"
      }
    },
    {
      "cell_type": "code",
      "execution_count": null,
      "metadata": {
        "id": "_7MMxV2bD9tN"
      },
      "outputs": [],
      "source": [
        "import cv2\n",
        "import numpy as np\n",
        "from base64 import b64encode\n",
        "import tempfile\n",
        "from IPython.display import HTML\n",
        "import imageio"
      ]
    },
    {
      "cell_type": "markdown",
      "source": [
        "To implement PCA on a sample video provided in the folder and convert it into frames, follow these steps:"
      ],
      "metadata": {
        "id": "mik7HaJTEJpa"
      }
    },
    {
      "cell_type": "markdown",
      "source": [
        "Read the video file using the given function."
      ],
      "metadata": {
        "id": "wTAyBF5rEIds"
      }
    },
    {
      "cell_type": "code",
      "source": [
        "video = '/content/try.mp4'\n",
        "mp4 = open(video,'rb').read()\n",
        "data_url = \"data:video/mp4;base64,\" + b64encode(mp4).decode()\n",
        "HTML(\"\"\"<video width=400 controls><source src=\"%s\" type=\"video/mp4\"></video>\"\"\" % data_url)\n",
        "with tempfile.NamedTemporaryFile(suffix=\".mp4\") as tmpfile:\n",
        "    tmpfile.write(mp4)\n",
        "    tmpfile.flush()\n",
        "\n",
        "    vid = imageio.get_reader(tmpfile.name, \"ffmpeg\")\n"
      ],
      "metadata": {
        "colab": {
          "base_uri": "https://localhost:8080/"
        },
        "id": "eZ_CCc2CEGh4",
        "outputId": "fea607d4-c28f-4e31-a453-1857b23473a7"
      },
      "execution_count": null,
      "outputs": [
        {
          "output_type": "stream",
          "name": "stderr",
          "text": [
            "WARNING:imageio_ffmpeg:The frame size for reading (352, 640) is different from the source frame size (640, 352).\n"
          ]
        }
      ]
    },
    {
      "cell_type": "markdown",
      "source": [
        "## Task 1\n",
        "Convert Each frame to Gray Scale"
      ],
      "metadata": {
        "id": "XxBLgjl-Pp0V"
      }
    },
    {
      "cell_type": "markdown",
      "source": [
        "Loop through the video frames and convert each RGB image to grayscale. Store the grayscale images in a list."
      ],
      "metadata": {
        "id": "v0EyfhfjEWAw"
      }
    },
    {
      "cell_type": "code",
      "source": [
        "frames = []\n",
        "for frame in vid:\n",
        "    gray = cv2.cvtColor(frame, cv2.COLOR_RGB2GRAY)\n",
        "    frames.append(gray)\n"
      ],
      "metadata": {
        "id": "BGcYuKTSEGje"
      },
      "execution_count": null,
      "outputs": []
    },
    {
      "cell_type": "markdown",
      "source": [
        "## Task 2\n",
        "\n",
        "Using built in PCA"
      ],
      "metadata": {
        "id": "NT1oN0uGQnos"
      }
    },
    {
      "cell_type": "code",
      "source": [
        "X = np.array(frames)\n",
        "X = X.reshape(X.shape[0], -1)\n"
      ],
      "metadata": {
        "id": "Ln_0v3dvNj4X"
      },
      "execution_count": null,
      "outputs": []
    },
    {
      "cell_type": "code",
      "source": [
        "from sklearn.decomposition import PCA\n",
        "pca = PCA(n_components=2)\n",
        "X_pca = pca.fit_transform(X)\n"
      ],
      "metadata": {
        "id": "NT_z0a1bEh16"
      },
      "execution_count": null,
      "outputs": []
    },
    {
      "cell_type": "code",
      "source": [
        "print(\"Variance explained by each principal component:\", pca.explained_variance_ratio_)\n"
      ],
      "metadata": {
        "colab": {
          "base_uri": "https://localhost:8080/"
        },
        "id": "WFg-Zal4EiEW",
        "outputId": "82286c8f-73b4-4a2c-ea9e-6da13941ea76"
      },
      "execution_count": null,
      "outputs": [
        {
          "output_type": "stream",
          "name": "stdout",
          "text": [
            "Variance explained by each principal component: [0.83100879 0.00733738]\n"
          ]
        }
      ]
    },
    {
      "cell_type": "markdown",
      "source": [
        "To visualize the reduced dimensionality of the video frames using PCA, plotting the first two principal components against each other using a scatter plot."
      ],
      "metadata": {
        "id": "oX2vjOekEiMN"
      }
    },
    {
      "cell_type": "code",
      "source": [
        "import matplotlib.pyplot as plt\n",
        "plt.scatter(X_pca[:, 0], X_pca[:, 1])\n",
        "plt.xlabel(\"PC1\")\n",
        "plt.ylabel(\"PC2\")\n",
        "plt.show()\n"
      ],
      "metadata": {
        "colab": {
          "base_uri": "https://localhost:8080/"
        },
        "id": "ei5z1ABpEiSh",
        "outputId": "00e83eb7-b6d8-4634-b264-279c672553a7"
      },
      "execution_count": null,
      "outputs": [
        {
          "output_type": "display_data",
          "data": {
            "text/plain": [
              "<Figure size 640x480 with 1 Axes>"
            ],
            "image/png": "[encoded data removed]"
          },
          "metadata": {}
        }
      ]
    },
    {
      "cell_type": "markdown",
      "source": [
        "# QUESTION # 2"
      ],
      "metadata": {
        "id": "lK-uvAzBS6M-"
      }
    },
    {
      "cell_type": "markdown",
      "source": [
        "## Task 1\n",
        "\n",
        "Using k-means clustering on the iris dataset"
      ],
      "metadata": {
        "id": "7zMcqqK0EiaL"
      }
    },
    {
      "cell_type": "markdown",
      "source": [],
      "metadata": {
        "id": "RbWmXu2GSx1K"
      }
    },
    {
      "cell_type": "code",
      "source": [
        "from sklearn.datasets import load_iris\n",
        "from sklearn.cluster import KMeans\n",
        "iris = load_iris()\n",
        "X = iris.data\n",
        "y = iris.target\n",
        "kmeans = KMeans(n_clusters=3, random_state=0).fit(X)\n"
      ],
      "metadata": {
        "colab": {
          "base_uri": "https://localhost:8080/"
        },
        "id": "ogOOm1oqEigi",
        "outputId": "72bb615c-2c5f-4719-b02d-52073d0fd994"
      },
      "execution_count": null,
      "outputs": [
        {
          "output_type": "stream",
          "name": "stderr",
          "text": [
            "/usr/local/lib/python3.9/dist-packages/sklearn/cluster/_kmeans.py:870: FutureWarning: The default value of `n_init` will change from 10 to 'auto' in 1.4. Set the value of `n_init` explicitly to suppress the warning\n",
            "  warnings.warn(\n"
          ]
        }
      ]
    },
    {
      "cell_type": "markdown",
      "source": [
        "## Task 2\n",
        "\n",
        "Computing the eigenvalues and eigenvectors"
      ],
      "metadata": {
        "id": "5DJ56jzxEiop"
      }
    },
    {
      "cell_type": "code",
      "source": [
        "cov = np.cov(X.T)\n",
        "eig_val, eig_vec = np.linalg.eig(cov)\n"
      ],
      "metadata": {
        "id": "tPS3N15JEivR"
      },
      "execution_count": null,
      "outputs": []
    },
    {
      "cell_type": "markdown",
      "source": [
        "Computing the confusion matrix of the k-means clustering using the sklearn.metrics.confusion_matrix() function.\n"
      ],
      "metadata": {
        "id": "cbpFIvvqEjFY"
      }
    },
    {
      "cell_type": "code",
      "source": [
        "from sklearn.metrics import confusion_matrix\n",
        "confusion_matrix(y, kmeans.labels_)\n"
      ],
      "metadata": {
        "colab": {
          "base_uri": "https://localhost:8080/"
        },
        "id": "_bJxhW96EjMM",
        "outputId": "d68c48a8-c210-4691-b96c-ed5b519740dd"
      },
      "execution_count": null,
      "outputs": [
        {
          "output_type": "execute_result",
          "data": {
            "text/plain": [
              "array([[ 0, 50,  0],\n",
              "       [48,  0,  2],\n",
              "       [14,  0, 36]])"
            ]
          },
          "metadata": {},
          "execution_count": 10
        }
      ]
    },
    {
      "cell_type": "markdown",
      "source": [
        "## Task 3\n",
        "\n",
        "Checking the eigenvectors corresponding to the 2nd least eigenvalue\n",
        "Then cmparing there signs with the k-means clusters using the sign function."
      ],
      "metadata": {
        "id": "yWIsCxSxEi3O"
      }
    },
    {
      "cell_type": "code",
      "source": [
        "second_least_eig_vec = eig_vec[:, 1]\n",
        "signs = np.sign(second_least_eig_vec)\n",
        "print(signs)\n",
        "print(kmeans.labels_)\n"
      ],
      "metadata": {
        "colab": {
          "base_uri": "https://localhost:8080/"
        },
        "id": "muZ1on07Ei9Y",
        "outputId": "c51b0955-cb26-47c6-9980-08e810c61c12"
      },
      "execution_count": null,
      "outputs": [
        {
          "output_type": "stream",
          "name": "stdout",
          "text": [
            "[-1. -1.  1.  1.]\n",
            "[1 1 1 1 1 1 1 1 1 1 1 1 1 1 1 1 1 1 1 1 1 1 1 1 1 1 1 1 1 1 1 1 1 1 1 1 1\n",
            " 1 1 1 1 1 1 1 1 1 1 1 1 1 0 0 2 0 0 0 0 0 0 0 0 0 0 0 0 0 0 0 0 0 0 0 0 0\n",
            " 0 0 0 2 0 0 0 0 0 0 0 0 0 0 0 0 0 0 0 0 0 0 0 0 0 0 2 0 2 2 2 2 0 2 2 2 2\n",
            " 2 2 0 0 2 2 2 2 0 2 0 2 0 2 2 0 0 2 2 2 2 2 0 2 2 2 2 0 2 2 2 0 2 2 2 0 2\n",
            " 2 0]\n"
          ]
        }
      ]
    }
  ]
}